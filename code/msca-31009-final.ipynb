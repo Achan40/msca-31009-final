{
 "cells": [
  {
   "cell_type": "code",
   "execution_count": 159,
   "metadata": {},
   "outputs": [],
   "source": [
    "import tensorflow as tf\n",
    "from tensorflow import keras\n",
    "\n",
    "from keras.preprocessing.image import ImageDataGenerator\n",
    "from keras.models import Sequential\n",
    "from keras.layers import Conv2D, MaxPooling2D, Flatten, Dense, Dropout\n",
    "from keras.optimizers import Adam\n",
    "\n",
    "from sklearn.metrics import accuracy_score, classification_report\n",
    "\n",
    "import numpy as np\n",
    "import pandas as pd\n",
    "import random\n",
    "\n",
    "import matplotlib.pyplot as plt\n",
    "\n",
    "# use pillow for checking image sizes\n",
    "import os\n",
    "from PIL import Image"
   ]
  },
  {
   "attachments": {},
   "cell_type": "markdown",
   "metadata": {},
   "source": [
    "# Checking Image Sizes"
   ]
  },
  {
   "cell_type": "code",
   "execution_count": 160,
   "metadata": {},
   "outputs": [],
   "source": [
    "# function to identify all unique image sizes for images in a directory\n",
    "def print_img_sizes(path):\n",
    "    # Get a list of all image file names in the directory\n",
    "    image_files = [file for file in os.listdir(path) if file.endswith(('.jpg', '.jpeg', '.png'))]\n",
    "\n",
    "    # Create a set to store unique image sizes\n",
    "    unique_sizes = set()\n",
    "\n",
    "    # Iterate over each image file and store its size in the set\n",
    "    for image_file in image_files:\n",
    "        image_path = os.path.join(path, image_file)\n",
    "        with Image.open(image_path) as image:\n",
    "            width, height = image.size\n",
    "            size = (width, height)\n",
    "            unique_sizes.add(size)\n",
    "\n",
    "    # Print the unique image sizes\n",
    "    print(\"Unique Image Sizes:\")\n",
    "    for size in unique_sizes:\n",
    "        print(f\"{size[0]}x{size[1]}\")"
   ]
  },
  {
   "cell_type": "code",
   "execution_count": 161,
   "metadata": {},
   "outputs": [
    {
     "name": "stdout",
     "output_type": "stream",
     "text": [
      "Unique Image Sizes:\n",
      "32x32\n"
     ]
    }
   ],
   "source": [
    "print_img_sizes('../data/test/FAKE/')"
   ]
  },
  {
   "attachments": {},
   "cell_type": "markdown",
   "metadata": {},
   "source": [
    "Images are 32x32, and are in color."
   ]
  },
  {
   "attachments": {},
   "cell_type": "markdown",
   "metadata": {},
   "source": [
    "# Build ImageDataGenerator Classes for Training"
   ]
  },
  {
   "cell_type": "code",
   "execution_count": 162,
   "metadata": {},
   "outputs": [],
   "source": [
    "# build an instance of the ImageDataGenerator class\n",
    "datagen = ImageDataGenerator(\n",
    "    rescale=1.0/255,\n",
    ")"
   ]
  },
  {
   "cell_type": "code",
   "execution_count": 163,
   "metadata": {},
   "outputs": [
    {
     "name": "stdout",
     "output_type": "stream",
     "text": [
      "Found 100000 images belonging to 2 classes.\n"
     ]
    }
   ],
   "source": [
    "# build the training set\n",
    "train_generator = datagen.flow_from_directory(\n",
    "    directory=\"../data/train\",\n",
    "    target_size=(32,32),\n",
    "    batch_size=32,\n",
    "    class_mode=\"categorical\",\n",
    ")"
   ]
  },
  {
   "cell_type": "code",
   "execution_count": 164,
   "metadata": {},
   "outputs": [
    {
     "name": "stdout",
     "output_type": "stream",
     "text": [
      "Found 100000 images belonging to 2 classes.\n"
     ]
    }
   ],
   "source": [
    "# build the training set, this generator has contains the attribute shuffle = False. This set is used to check for overfitting.\n",
    "train_generator_static = datagen.flow_from_directory(\n",
    "    directory=\"../data/train\",\n",
    "    target_size=(32,32),\n",
    "    batch_size=32,\n",
    "    class_mode=\"categorical\",\n",
    "    shuffle=False\n",
    ")"
   ]
  },
  {
   "cell_type": "code",
   "execution_count": 165,
   "metadata": {},
   "outputs": [
    {
     "name": "stdout",
     "output_type": "stream",
     "text": [
      "Image shape of each observation:  (32, 32, 3)\n",
      "Number of classes:  2\n"
     ]
    }
   ],
   "source": [
    "print(\"Image shape of each observation: \",train_generator.image_shape)\n",
    "print(\"Number of classes: \",train_generator.num_classes)"
   ]
  },
  {
   "attachments": {},
   "cell_type": "markdown",
   "metadata": {},
   "source": [
    "# Build ImageDataGenerator Class for Testing"
   ]
  },
  {
   "cell_type": "code",
   "execution_count": 166,
   "metadata": {},
   "outputs": [
    {
     "name": "stdout",
     "output_type": "stream",
     "text": [
      "Found 20000 images belonging to 2 classes.\n"
     ]
    }
   ],
   "source": [
    "# Generate the test set\n",
    "test_generator = datagen.flow_from_directory(\n",
    "    directory=\"../data/test\",\n",
    "    target_size=(32,32),\n",
    "    class_mode=\"categorical\",\n",
    "    shuffle=False # Make sure this is false so that predictions will align w correct image labels later on\n",
    ")"
   ]
  },
  {
   "attachments": {},
   "cell_type": "markdown",
   "metadata": {},
   "source": [
    "# Build the Neural Network"
   ]
  },
  {
   "cell_type": "code",
   "execution_count": 167,
   "metadata": {},
   "outputs": [],
   "source": [
    "# Define model as a function so that we can perform hyperparameter tuning\n",
    "def create_model(filters=32,kernel_size=(3,3), pool_size=(2,2), hidden_units=128, dropout_rate=.5, learning_rate=0.001):\n",
    "\n",
    "    # Create an instance of Sequential\n",
    "    classifier = Sequential()\n",
    "\n",
    "    # Add a Conv2D layer. Applies a set of filters to the input data, each filter learns to recognize different patterns or features\n",
    "    classifier.add(Conv2D(filters=filters, \n",
    "                        kernel_size=kernel_size, \n",
    "                        input_shape=train_generator.image_shape, \n",
    "                        activation='relu')\n",
    "                        )\n",
    "\n",
    "    # Add a MaxPooling2d layer. Performs downsampling on the data, reduces dimensions. Divides input data into non-overlapping regions (pooling windows).\n",
    "    # Maximum value is output within each window.\n",
    "    classifier.add(MaxPooling2D(pool_size))\n",
    "\n",
    "    classifier.add(Conv2D(filters=filters, \n",
    "                        kernel_size=kernel_size, \n",
    "                        input_shape=train_generator.image_shape, \n",
    "                        activation='relu')\n",
    "                        )\n",
    "    \n",
    "    classifier.add(MaxPooling2D(pool_size))\n",
    "    classifier.add(Dropout(dropout_rate))\n",
    "\n",
    "    classifier.add(Conv2D(filters=filters, \n",
    "                        kernel_size=kernel_size, \n",
    "                        input_shape=train_generator.image_shape, \n",
    "                        activation='relu')\n",
    "                        )\n",
    "    \n",
    "    classifier.add(MaxPooling2D(pool_size))\n",
    "    \n",
    "    classifier.add(Dropout(dropout_rate))\n",
    "\n",
    "    # Add a Flatten layer. Reshape data into a 1d array. Transition the convolution and pooling layers to the fully connected layers.\n",
    "    classifier.add(Flatten())\n",
    "\n",
    "    # Add a Dense layer. A fully connected layer, allows for the learning of relationships. Activation function introduces non-linearity\n",
    "    classifier.add(Dense(hidden_units,\n",
    "                        activation='relu')\n",
    "                        )\n",
    "\n",
    "    # Add a Final Dense layer. This will output our probabilities.\n",
    "    classifier.add(Dense(units=train_generator.num_classes,\n",
    "                        activation='sigmoid')\n",
    "                        )\n",
    "\n",
    "    # Compile the model\n",
    "    classifier.compile(\n",
    "        optimizer=Adam(learning_rate=learning_rate),\n",
    "        loss='categorical_crossentropy',\n",
    "        metrics=['accuracy']\n",
    "    )\n",
    "\n",
    "    return classifier"
   ]
  },
  {
   "attachments": {},
   "cell_type": "markdown",
   "metadata": {},
   "source": [
    "### Train and Evaluate the Model"
   ]
  },
  {
   "cell_type": "code",
   "execution_count": 168,
   "metadata": {},
   "outputs": [
    {
     "name": "stdout",
     "output_type": "stream",
     "text": [
      "Model: \"sequential_154\"\n",
      "_________________________________________________________________\n",
      " Layer (type)                Output Shape              Param #   \n",
      "=================================================================\n",
      " conv2d_462 (Conv2D)         (None, 30, 30, 256)       7168      \n",
      "                                                                 \n",
      " max_pooling2d_462 (MaxPooli  (None, 15, 15, 256)      0         \n",
      " ng2D)                                                           \n",
      "                                                                 \n",
      " conv2d_463 (Conv2D)         (None, 13, 13, 256)       590080    \n",
      "                                                                 \n",
      " max_pooling2d_463 (MaxPooli  (None, 6, 6, 256)        0         \n",
      " ng2D)                                                           \n",
      "                                                                 \n",
      " dropout_305 (Dropout)       (None, 6, 6, 256)         0         \n",
      "                                                                 \n",
      " conv2d_464 (Conv2D)         (None, 4, 4, 256)         590080    \n",
      "                                                                 \n",
      " max_pooling2d_464 (MaxPooli  (None, 2, 2, 256)        0         \n",
      " ng2D)                                                           \n",
      "                                                                 \n",
      " dropout_306 (Dropout)       (None, 2, 2, 256)         0         \n",
      "                                                                 \n",
      " flatten_154 (Flatten)       (None, 1024)              0         \n",
      "                                                                 \n",
      " dense_308 (Dense)           (None, 16)                16400     \n",
      "                                                                 \n",
      " dense_309 (Dense)           (None, 2)                 34        \n",
      "                                                                 \n",
      "=================================================================\n",
      "Total params: 1,203,762\n",
      "Trainable params: 1,203,762\n",
      "Non-trainable params: 0\n",
      "_________________________________________________________________\n",
      "None\n",
      "Epoch 1/5\n",
      "3125/3125 [==============================] - 64s 20ms/step - loss: 0.3746 - accuracy: 0.8321 - val_loss: 0.2880 - val_accuracy: 0.8813\n",
      "Epoch 2/5\n",
      "3125/3125 [==============================] - 36s 11ms/step - loss: 0.2551 - accuracy: 0.8958 - val_loss: 0.2155 - val_accuracy: 0.9118\n",
      "Epoch 3/5\n",
      "3125/3125 [==============================] - 29s 9ms/step - loss: 0.2183 - accuracy: 0.9115 - val_loss: 0.2009 - val_accuracy: 0.9185\n",
      "Epoch 4/5\n",
      "3125/3125 [==============================] - 36s 11ms/step - loss: 0.1965 - accuracy: 0.9215 - val_loss: 0.1797 - val_accuracy: 0.9281\n",
      "Epoch 5/5\n",
      "3125/3125 [==============================] - 37s 12ms/step - loss: 0.1803 - accuracy: 0.9286 - val_loss: 0.1753 - val_accuracy: 0.9299\n",
      "Model saved to disk\n"
     ]
    }
   ],
   "source": [
    " # Create and compile a model with the selected hyperparameters\n",
    "model = create_model(filters=256,kernel_size=(3,3), pool_size=(2,2), hidden_units=16, dropout_rate=0.2, learning_rate=0.001)\n",
    "print(model.summary())\n",
    "\n",
    "# Train the model, passing in the test set for validation\n",
    "model.fit(train_generator, epochs=5, batch_size=32,verbose=1, validation_data=test_generator)\n",
    "\n",
    "# save the model to disk\n",
    "model.save('mod_1.h5')\n",
    "print('Model saved to disk')"
   ]
  },
  {
   "cell_type": "code",
   "execution_count": 169,
   "metadata": {},
   "outputs": [
    {
     "data": {
      "image/png": "[encoded data removed]",
      "text/plain": [
       "<Figure size 640x480 with 1 Axes>"
      ]
     },
     "metadata": {},
     "output_type": "display_data"
    }
   ],
   "source": [
    "# Model performance history by epoch\n",
    "def performance_history(model):\n",
    "    plt.plot(model.history.history['accuracy'], label='accuracy')\n",
    "    plt.plot(model.history.history['val_accuracy'], label = 'val_accuracy')\n",
    "    plt.xlabel('Epoch')\n",
    "    plt.ylabel('Accuracy')\n",
    "    plt.ylim([0.5, 1])\n",
    "    plt.legend(loc='lower right')\n",
    "\n",
    "    plt.show()\n",
    "\n",
    "performance_history(model)"
   ]
  },
  {
   "cell_type": "code",
   "execution_count": 170,
   "metadata": {},
   "outputs": [],
   "source": [
    "# function for evaluating model performance and generating predictions\n",
    "def evaluate_model(path_to_mod, generator):\n",
    "    # Load the trained model\n",
    "    model = keras.models.load_model(path_to_mod)\n",
    "\n",
    "    # Make predictions on the test set\n",
    "    predictions = model.predict(generator)\n",
    "\n",
    "    # Convert the predictions to class labels\n",
    "    predicted_classes = np.argmax(predictions, axis=1)\n",
    "\n",
    "    # Get the true class labels\n",
    "    true_classes = generator.classes\n",
    "\n",
    "    accuracy = accuracy_score(predicted_classes, true_classes)\n",
    "    print('Prediction Accuracy: ', accuracy)\n",
    "\n",
    "    return predicted_classes,true_classes"
   ]
  },
  {
   "cell_type": "code",
   "execution_count": 171,
   "metadata": {},
   "outputs": [
    {
     "name": "stdout",
     "output_type": "stream",
     "text": [
      "3125/3125 [==============================] - 60s 19ms/step\n",
      "Prediction Accuracy:  0.9433\n",
      "              precision    recall  f1-score   support\n",
      "\n",
      "           0       0.94      0.95      0.94     49508\n",
      "           1       0.95      0.94      0.94     50492\n",
      "\n",
      "    accuracy                           0.94    100000\n",
      "   macro avg       0.94      0.94      0.94    100000\n",
      "weighted avg       0.94      0.94      0.94    100000\n",
      "\n",
      "Class Labels:  {'FAKE': 0, 'REAL': 1}\n"
     ]
    }
   ],
   "source": [
    "# Predicting on train data, this is our check for overfitting\n",
    "preds, actual = evaluate_model('mod_1.h5', train_generator_static)\n",
    "print(classification_report(preds, actual))\n",
    "print(\"Class Labels: \", train_generator_static.class_indices)"
   ]
  },
  {
   "cell_type": "code",
   "execution_count": 172,
   "metadata": {},
   "outputs": [
    {
     "name": "stdout",
     "output_type": "stream",
     "text": [
      "625/625 [==============================] - 5s 8ms/step\n",
      "Prediction Accuracy:  0.92995\n",
      "              precision    recall  f1-score   support\n",
      "\n",
      "           0       0.92      0.94      0.93      9855\n",
      "           1       0.94      0.92      0.93     10145\n",
      "\n",
      "    accuracy                           0.93     20000\n",
      "   macro avg       0.93      0.93      0.93     20000\n",
      "weighted avg       0.93      0.93      0.93     20000\n",
      "\n",
      "Class Labels:  {'FAKE': 0, 'REAL': 1}\n"
     ]
    }
   ],
   "source": [
    "# Predicting on test data\n",
    "preds, actual = evaluate_model('mod_1.h5', test_generator)\n",
    "print(classification_report(preds, actual))\n",
    "print(\"Class Labels: \", test_generator.class_indices)"
   ]
  },
  {
   "attachments": {},
   "cell_type": "markdown",
   "metadata": {},
   "source": [
    "### Random Grid Search\n",
    "\n",
    "Performing a random grid search on a number of hyper parameters will assist us with fine tuning our model for the best performance."
   ]
  },
  {
   "cell_type": "code",
   "execution_count": 173,
   "metadata": {},
   "outputs": [
    {
     "name": "stdout",
     "output_type": "stream",
     "text": [
      "{'filters': 64, 'kernel_size': (3, 3), 'pool_size': (2, 2), 'hidden_units': 128, 'dropout_rate': 0.5, 'learning_rate': 0.002}\n",
      "Model saved to disk\n",
      "625/625 [==============================] - 5s 8ms/step\n",
      "Prediction Accuracy:  0.8867\n",
      "{'filters': 256, 'kernel_size': (2, 2), 'pool_size': (2, 2), 'hidden_units': 8, 'dropout_rate': 0.4, 'learning_rate': 0.001}\n",
      "Model saved to disk\n",
      "625/625 [==============================] - 5s 8ms/step\n",
      "Prediction Accuracy:  0.9288\n",
      "{'filters': 64, 'kernel_size': (4, 4), 'pool_size': (2, 2), 'hidden_units': 8, 'dropout_rate': 0.4, 'learning_rate': 0.0005}\n",
      "Model saved to disk\n",
      "625/625 [==============================] - 5s 8ms/step\n",
      "Prediction Accuracy:  0.92045\n",
      "{'filters': 64, 'kernel_size': (2, 2), 'pool_size': (2, 2), 'hidden_units': 64, 'dropout_rate': 0.3, 'learning_rate': 0.002}\n",
      "Model saved to disk\n",
      "625/625 [==============================] - 5s 8ms/step\n",
      "Prediction Accuracy:  0.92225\n",
      "{'filters': 256, 'kernel_size': (4, 4), 'pool_size': (2, 2), 'hidden_units': 16, 'dropout_rate': 0.5, 'learning_rate': 0.002}\n",
      "Model saved to disk\n",
      "625/625 [==============================] - 5s 8ms/step\n",
      "Prediction Accuracy:  0.8965\n",
      "{'filters': 128, 'kernel_size': (4, 4), 'pool_size': (2, 2), 'hidden_units': 8, 'dropout_rate': 0.4, 'learning_rate': 0.002}\n",
      "Model saved to disk\n",
      "625/625 [==============================] - 8s 12ms/step\n",
      "Prediction Accuracy:  0.8893\n",
      "{'filters': 512, 'kernel_size': (3, 3), 'pool_size': (2, 2), 'hidden_units': 64, 'dropout_rate': 0.4, 'learning_rate': 0.001}\n",
      "Model saved to disk\n",
      "625/625 [==============================] - 10s 16ms/step\n",
      "Prediction Accuracy:  0.91235\n",
      "{'filters': 512, 'kernel_size': (3, 3), 'pool_size': (2, 2), 'hidden_units': 10, 'dropout_rate': 0.3, 'learning_rate': 0.002}\n",
      "Model saved to disk\n",
      "625/625 [==============================] - 6s 9ms/step\n",
      "Prediction Accuracy:  0.5\n",
      "{'filters': 128, 'kernel_size': (3, 3), 'pool_size': (2, 2), 'hidden_units': 128, 'dropout_rate': 0.4, 'learning_rate': 0.0005}\n",
      "Model saved to disk\n",
      "625/625 [==============================] - 8s 13ms/step\n",
      "Prediction Accuracy:  0.9248\n",
      "{'filters': 128, 'kernel_size': (2, 2), 'pool_size': (2, 2), 'hidden_units': 32, 'dropout_rate': 0.2, 'learning_rate': 0.0005}\n",
      "Model saved to disk\n",
      "625/625 [==============================] - 17s 27ms/step\n",
      "Prediction Accuracy:  0.943\n",
      "{'filters': 128, 'kernel_size': (2, 2), 'pool_size': (2, 2), 'hidden_units': 16, 'dropout_rate': 0.3, 'learning_rate': 0.002}\n",
      "Model saved to disk\n",
      "625/625 [==============================] - 7s 12ms/step\n",
      "Prediction Accuracy:  0.92135\n",
      "{'filters': 256, 'kernel_size': (2, 2), 'pool_size': (2, 2), 'hidden_units': 16, 'dropout_rate': 0.3, 'learning_rate': 0.001}\n",
      "Model saved to disk\n",
      "625/625 [==============================] - 5s 8ms/step\n",
      "Prediction Accuracy:  0.935\n"
     ]
    }
   ],
   "source": [
    "# Define a hyper parameter grid\n",
    "param_grid = {\n",
    "    'filters': [64, 128, 256, 512],\n",
    "    'kernel_size': [(2, 2), (3, 3), (4,4)],\n",
    "    'pool_size': [(2, 2)],\n",
    "    'hidden_units': [8, 10, 16, 32, 64, 128],\n",
    "    'dropout_rate': [0.2, 0.3, 0.4],\n",
    "    'learning_rate': [.0005,.001, 0.002]\n",
    "}\n",
    "\n",
    "# Perform random grid search\n",
    "num_iterations = 12\n",
    "best_accuracy = 0.0 # placeholder to track best accuracy\n",
    "best_params = None # placeholder to track best parameters\n",
    "\n",
    "# Create a dataframe to track model performance using various hyper parameters\n",
    "col_names = list(param_grid.keys()) # names of hyper parameters\n",
    "params_df = pd.DataFrame(columns=col_names)\n",
    "mod_df = pd.DataFrame(columns=['mod_name','accuracy'])\n",
    "params_df = pd.concat([params_df, mod_df], axis=1) # combine to create df for performance tracking\n",
    "\n",
    "for i in range(num_iterations):\n",
    "    # Randomly select hyperparameters from the grid\n",
    "    params = {param: random.choice(values) for param, values in param_grid.items()}\n",
    "\n",
    "    print(params)\n",
    "\n",
    "    # Create and compile the model with the selected hyperparameters\n",
    "    model = create_model(**params)\n",
    "\n",
    "    # Train the model\n",
    "    model.fit(train_generator, epochs=5, batch_size=32,verbose=0)\n",
    "\n",
    "    # save the model to disk\n",
    "    mod_name = 'mod_rgs_'+str(i)+'.h5'\n",
    "    model.save(mod_name)\n",
    "    print('Model saved to disk')\n",
    "\n",
    "    preds, actual = evaluate_model(mod_name, test_generator)\n",
    "\n",
    "    accuracy = accuracy_score(preds,actual)\n",
    "\n",
    "    # add a row to our tracker dataframe\n",
    "    converted_list = [str(item) if isinstance(item, set) else item for item in list(params.values())] # convert items in a list that are a set to string\n",
    "    converted_list.extend([mod_name, accuracy])\n",
    "    params_df = pd.concat([params_df, pd.DataFrame([converted_list], columns=params_df.columns)], ignore_index=True) # add new row to tracker df\n",
    "\n",
    "    # Check if the current model outperforms the previous best model\n",
    "    if accuracy > best_accuracy:\n",
    "        best_accuracy = accuracy\n",
    "        best_params = params\n",
    "\n",
    "        model.save('best_model.h5')"
   ]
  },
  {
   "cell_type": "code",
   "execution_count": 174,
   "metadata": {},
   "outputs": [
    {
     "data": {
      "text/html": [
       "<div>\n",
       "<style scoped>\n",
       "    .dataframe tbody tr th:only-of-type {\n",
       "        vertical-align: middle;\n",
       "    }\n",
       "\n",
       "    .dataframe tbody tr th {\n",
       "        vertical-align: top;\n",
       "    }\n",
       "\n",
       "    .dataframe thead th {\n",
       "        text-align: right;\n",
       "    }\n",
       "</style>\n",
       "<table border=\"1\" class=\"dataframe\">\n",
       "  <thead>\n",
       "    <tr style=\"text-align: right;\">\n",
       "      <th></th>\n",
       "      <th>filters</th>\n",
       "      <th>kernel_size</th>\n",
       "      <th>pool_size</th>\n",
       "      <th>hidden_units</th>\n",
       "      <th>dropout_rate</th>\n",
       "      <th>learning_rate</th>\n",
       "      <th>mod_name</th>\n",
       "      <th>accuracy</th>\n",
       "    </tr>\n",
       "  </thead>\n",
       "  <tbody>\n",
       "    <tr>\n",
       "      <th>0</th>\n",
       "      <td>64</td>\n",
       "      <td>(3, 3)</td>\n",
       "      <td>(2, 2)</td>\n",
       "      <td>128</td>\n",
       "      <td>0.5</td>\n",
       "      <td>0.0020</td>\n",
       "      <td>mod_rgs_0.h5</td>\n",
       "      <td>0.88670</td>\n",
       "    </tr>\n",
       "    <tr>\n",
       "      <th>1</th>\n",
       "      <td>256</td>\n",
       "      <td>(2, 2)</td>\n",
       "      <td>(2, 2)</td>\n",
       "      <td>8</td>\n",
       "      <td>0.4</td>\n",
       "      <td>0.0010</td>\n",
       "      <td>mod_rgs_1.h5</td>\n",
       "      <td>0.92880</td>\n",
       "    </tr>\n",
       "    <tr>\n",
       "      <th>2</th>\n",
       "      <td>64</td>\n",
       "      <td>(4, 4)</td>\n",
       "      <td>(2, 2)</td>\n",
       "      <td>8</td>\n",
       "      <td>0.4</td>\n",
       "      <td>0.0005</td>\n",
       "      <td>mod_rgs_2.h5</td>\n",
       "      <td>0.92045</td>\n",
       "    </tr>\n",
       "    <tr>\n",
       "      <th>3</th>\n",
       "      <td>64</td>\n",
       "      <td>(2, 2)</td>\n",
       "      <td>(2, 2)</td>\n",
       "      <td>64</td>\n",
       "      <td>0.3</td>\n",
       "      <td>0.0020</td>\n",
       "      <td>mod_rgs_3.h5</td>\n",
       "      <td>0.92225</td>\n",
       "    </tr>\n",
       "    <tr>\n",
       "      <th>4</th>\n",
       "      <td>256</td>\n",
       "      <td>(4, 4)</td>\n",
       "      <td>(2, 2)</td>\n",
       "      <td>16</td>\n",
       "      <td>0.5</td>\n",
       "      <td>0.0020</td>\n",
       "      <td>mod_rgs_4.h5</td>\n",
       "      <td>0.89650</td>\n",
       "    </tr>\n",
       "    <tr>\n",
       "      <th>5</th>\n",
       "      <td>128</td>\n",
       "      <td>(4, 4)</td>\n",
       "      <td>(2, 2)</td>\n",
       "      <td>8</td>\n",
       "      <td>0.4</td>\n",
       "      <td>0.0020</td>\n",
       "      <td>mod_rgs_5.h5</td>\n",
       "      <td>0.88930</td>\n",
       "    </tr>\n",
       "    <tr>\n",
       "      <th>6</th>\n",
       "      <td>512</td>\n",
       "      <td>(3, 3)</td>\n",
       "      <td>(2, 2)</td>\n",
       "      <td>64</td>\n",
       "      <td>0.4</td>\n",
       "      <td>0.0010</td>\n",
       "      <td>mod_rgs_6.h5</td>\n",
       "      <td>0.91235</td>\n",
       "    </tr>\n",
       "    <tr>\n",
       "      <th>7</th>\n",
       "      <td>512</td>\n",
       "      <td>(3, 3)</td>\n",
       "      <td>(2, 2)</td>\n",
       "      <td>10</td>\n",
       "      <td>0.3</td>\n",
       "      <td>0.0020</td>\n",
       "      <td>mod_rgs_7.h5</td>\n",
       "      <td>0.50000</td>\n",
       "    </tr>\n",
       "    <tr>\n",
       "      <th>8</th>\n",
       "      <td>128</td>\n",
       "      <td>(3, 3)</td>\n",
       "      <td>(2, 2)</td>\n",
       "      <td>128</td>\n",
       "      <td>0.4</td>\n",
       "      <td>0.0005</td>\n",
       "      <td>mod_rgs_8.h5</td>\n",
       "      <td>0.92480</td>\n",
       "    </tr>\n",
       "    <tr>\n",
       "      <th>9</th>\n",
       "      <td>128</td>\n",
       "      <td>(2, 2)</td>\n",
       "      <td>(2, 2)</td>\n",
       "      <td>32</td>\n",
       "      <td>0.2</td>\n",
       "      <td>0.0005</td>\n",
       "      <td>mod_rgs_9.h5</td>\n",
       "      <td>0.94300</td>\n",
       "    </tr>\n",
       "    <tr>\n",
       "      <th>10</th>\n",
       "      <td>128</td>\n",
       "      <td>(2, 2)</td>\n",
       "      <td>(2, 2)</td>\n",
       "      <td>16</td>\n",
       "      <td>0.3</td>\n",
       "      <td>0.0020</td>\n",
       "      <td>mod_rgs_10.h5</td>\n",
       "      <td>0.92135</td>\n",
       "    </tr>\n",
       "    <tr>\n",
       "      <th>11</th>\n",
       "      <td>256</td>\n",
       "      <td>(2, 2)</td>\n",
       "      <td>(2, 2)</td>\n",
       "      <td>16</td>\n",
       "      <td>0.3</td>\n",
       "      <td>0.0010</td>\n",
       "      <td>mod_rgs_11.h5</td>\n",
       "      <td>0.93500</td>\n",
       "    </tr>\n",
       "  </tbody>\n",
       "</table>\n",
       "</div>"
      ],
      "text/plain": [
       "   filters kernel_size pool_size hidden_units  dropout_rate  learning_rate  \\\n",
       "0       64      (3, 3)    (2, 2)          128           0.5         0.0020   \n",
       "1      256      (2, 2)    (2, 2)            8           0.4         0.0010   \n",
       "2       64      (4, 4)    (2, 2)            8           0.4         0.0005   \n",
       "3       64      (2, 2)    (2, 2)           64           0.3         0.0020   \n",
       "4      256      (4, 4)    (2, 2)           16           0.5         0.0020   \n",
       "5      128      (4, 4)    (2, 2)            8           0.4         0.0020   \n",
       "6      512      (3, 3)    (2, 2)           64           0.4         0.0010   \n",
       "7      512      (3, 3)    (2, 2)           10           0.3         0.0020   \n",
       "8      128      (3, 3)    (2, 2)          128           0.4         0.0005   \n",
       "9      128      (2, 2)    (2, 2)           32           0.2         0.0005   \n",
       "10     128      (2, 2)    (2, 2)           16           0.3         0.0020   \n",
       "11     256      (2, 2)    (2, 2)           16           0.3         0.0010   \n",
       "\n",
       "         mod_name  accuracy  \n",
       "0    mod_rgs_0.h5   0.88670  \n",
       "1    mod_rgs_1.h5   0.92880  \n",
       "2    mod_rgs_2.h5   0.92045  \n",
       "3    mod_rgs_3.h5   0.92225  \n",
       "4    mod_rgs_4.h5   0.89650  \n",
       "5    mod_rgs_5.h5   0.88930  \n",
       "6    mod_rgs_6.h5   0.91235  \n",
       "7    mod_rgs_7.h5   0.50000  \n",
       "8    mod_rgs_8.h5   0.92480  \n",
       "9    mod_rgs_9.h5   0.94300  \n",
       "10  mod_rgs_10.h5   0.92135  \n",
       "11  mod_rgs_11.h5   0.93500  "
      ]
     },
     "execution_count": 174,
     "metadata": {},
     "output_type": "execute_result"
    }
   ],
   "source": [
    "params_df"
   ]
  },
  {
   "cell_type": "code",
   "execution_count": 175,
   "metadata": {},
   "outputs": [
    {
     "name": "stdout",
     "output_type": "stream",
     "text": [
      "0.943\n",
      "{'filters': 128, 'kernel_size': (2, 2), 'pool_size': (2, 2), 'hidden_units': 32, 'dropout_rate': 0.2, 'learning_rate': 0.0005}\n"
     ]
    }
   ],
   "source": [
    "print(best_accuracy)\n",
    "print(best_params)"
   ]
  }
 ],
 "metadata": {
  "kernelspec": {
   "display_name": "tfEnv",
   "language": "python",
   "name": "python3"
  },
  "language_info": {
   "codemirror_mode": {
    "name": "ipython",
    "version": 3
   },
   "file_extension": ".py",
   "mimetype": "text/x-python",
   "name": "python",
   "nbconvert_exporter": "python",
   "pygments_lexer": "ipython3",
   "version": "3.10.11"
  },
  "orig_nbformat": 4
 },
 "nbformat": 4,
 "nbformat_minor": 2
}
